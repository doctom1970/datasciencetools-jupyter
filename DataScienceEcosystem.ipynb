{
 "cells": [
  {
   "cell_type": "markdown",
   "id": "008ffd4b-104d-4a9a-acac-e68f3eb45058",
   "metadata": {
    "tags": []
   },
   "source": [
    "# Data Science Tools and Ecosystem"
   ]
  },
  {
   "cell_type": "markdown",
   "id": "1180704a-8b11-409b-af86-cc1bbd76abaa",
   "metadata": {},
   "source": [
    "In this notebook, Data Science Tools and Ecosystems are summarized."
   ]
  },
  {
   "cell_type": "markdown",
   "id": "035d1529-1e97-4d71-8468-034053c96182",
   "metadata": {},
   "source": [
    "Objectives:\n",
    "- List popular languages for data scientists\n",
    "- List commonly used libraries for data scientists\n",
    "- Show open source data science tools\n",
    "- Demonstrate simple arithmetic expressions in Python"
   ]
  },
  {
   "cell_type": "markdown",
   "id": "f18a8258-bc11-4c57-8fe7-6b45e0371d21",
   "metadata": {},
   "source": [
    "Some of the popular languages data scientists use are:\n",
    "1. Python\n",
    "2. R\n",
    "3. SQL\n",
    "4. Julia\n",
    "5. Scala\n"
   ]
  },
  {
   "cell_type": "markdown",
   "id": "89cf651b-c1dc-4f50-8223-d92860e199c7",
   "metadata": {},
   "source": [
    "Some of the commonly used libraries used by data scientists are:\n",
    "1. pandas\n",
    "2. NumPy\n",
    "3. matplotlib\n",
    "4. scikit-learn\n",
    "5. Tensorflow\n"
   ]
  },
  {
   "cell_type": "markdown",
   "id": "a353482e-17b3-42ca-b730-4779c4ca7159",
   "metadata": {
    "tags": []
   },
   "source": [
    "|Data Science Tools|\n",
    "-----|\n",
    "|R Studio|\n",
    "|Jupyter Notebooks|\n",
    "|Jupyter Lab|"
   ]
  },
  {
   "cell_type": "markdown",
   "id": "521ad494-bf23-4e6f-982b-c3e672d9797e",
   "metadata": {},
   "source": [
    "### Below are a few examples of evaluation arithmetic expressions in Python"
   ]
  },
  {
   "cell_type": "code",
   "execution_count": 2,
   "id": "fb78b38c-ee0e-4219-b6d8-166c02a67bdc",
   "metadata": {
    "tags": []
   },
   "outputs": [
    {
     "data": {
      "text/plain": [
       "17"
      ]
     },
     "execution_count": 2,
     "metadata": {},
     "output_type": "execute_result"
    }
   ],
   "source": [
    "# This is a simple expression to multiply and then add integers\n",
    "(3*4)+5"
   ]
  },
  {
   "cell_type": "code",
   "execution_count": 3,
   "id": "c2469c11-34f2-4939-a19c-90d4fe719ec6",
   "metadata": {
    "tags": []
   },
   "outputs": [
    {
     "name": "stdout",
     "output_type": "stream",
     "text": [
      "3.3333333333333335\n"
     ]
    }
   ],
   "source": [
    "# Convert 200 minutes to hours by dividing by 60\n",
    "hours = 200 / 60\n",
    "print(hours)"
   ]
  },
  {
   "cell_type": "markdown",
   "id": "26f0ff48-0528-4699-a221-99148344e88e",
   "metadata": {},
   "source": [
    "## Author:\n",
    "## Thomas Pressel"
   ]
  },
  {
   "cell_type": "code",
   "execution_count": null,
   "id": "98312ce2-9cb4-497c-b4f2-9d02acb4f18e",
   "metadata": {},
   "outputs": [],
   "source": []
  }
 ],
 "metadata": {
  "kernelspec": {
   "display_name": "Python",
   "language": "python",
   "name": "conda-env-python-py"
  },
  "language_info": {
   "codemirror_mode": {
    "name": "ipython",
    "version": 3
   },
   "file_extension": ".py",
   "mimetype": "text/x-python",
   "name": "python",
   "nbconvert_exporter": "python",
   "pygments_lexer": "ipython3",
   "version": "3.7.12"
  }
 },
 "nbformat": 4,
 "nbformat_minor": 5
}
